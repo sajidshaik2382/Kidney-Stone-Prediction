{
 "cells": [
  {
   "cell_type": "code",
   "execution_count": 1,
   "metadata": {},
   "outputs": [
    {
     "ename": "ModuleNotFoundError",
     "evalue": "No module named 'streamlit'",
     "output_type": "error",
     "traceback": [
      "\u001b[1;31m---------------------------------------------------------------------------\u001b[0m",
      "\u001b[1;31mModuleNotFoundError\u001b[0m                       Traceback (most recent call last)",
      "\u001b[1;32m<ipython-input-1-ed3da007abfe>\u001b[0m in \u001b[0;36m<module>\u001b[1;34m\u001b[0m\n\u001b[1;32m----> 1\u001b[1;33m \u001b[1;32mimport\u001b[0m \u001b[0mstreamlit\u001b[0m \u001b[1;32mas\u001b[0m \u001b[0mst\u001b[0m\u001b[1;33m\u001b[0m\u001b[1;33m\u001b[0m\u001b[0m\n\u001b[0m\u001b[0;32m      2\u001b[0m \u001b[1;32mimport\u001b[0m \u001b[0mnumpy\u001b[0m \u001b[1;32mas\u001b[0m \u001b[0mnp\u001b[0m\u001b[1;33m\u001b[0m\u001b[1;33m\u001b[0m\u001b[0m\n\u001b[0;32m      3\u001b[0m \u001b[1;32mfrom\u001b[0m \u001b[0mtensorflow\u001b[0m\u001b[1;33m.\u001b[0m\u001b[0mkeras\u001b[0m\u001b[1;33m.\u001b[0m\u001b[0mmodels\u001b[0m \u001b[1;32mimport\u001b[0m \u001b[0mload_model\u001b[0m\u001b[1;33m\u001b[0m\u001b[1;33m\u001b[0m\u001b[0m\n\u001b[0;32m      4\u001b[0m \u001b[1;33m\u001b[0m\u001b[0m\n\u001b[0;32m      5\u001b[0m \u001b[1;31m# Load the trained model\u001b[0m\u001b[1;33m\u001b[0m\u001b[1;33m\u001b[0m\u001b[1;33m\u001b[0m\u001b[0m\n",
      "\u001b[1;31mModuleNotFoundError\u001b[0m: No module named 'streamlit'"
     ]
    }
   ],
   "source": [
    "import streamlit as st\n",
    "import numpy as np\n",
    "from tensorflow.keras.models import load_model\n",
    "\n",
    "# Load the trained model\n",
    "model = load_model('my_model.h5')\n",
    "\n",
    "# Define a function to make a prediction\n",
    "def predict_target(gravity, ph, osmo, cond, urea, calc, osmo_cond_ratio, urea_calc_diff, osmo_urea_interaction, gravity_bin, ph_bin, osmo_bin, cond_bin, urea_bin, calc_bin):\n",
    "    \n",
    "    # Create a numpy array with the input values and reshape it for the model\n",
    "    input_data = np.array([[gravity, ph, osmo, cond, urea, calc, osmo_cond_ratio, urea_calc_diff, osmo_urea_interaction, gravity_bin, ph_bin, osmo_bin, cond_bin, urea_bin, calc_bin]])\n",
    "    input_data = np.reshape(input_data, (input_data.shape[0], input_data.shape[1], 1))\n",
    "    \n",
    "    # Make a prediction using the model\n",
    "    prediction = model.predict(input_data)\n",
    "    \n",
    "    # Return the predicted target value\n",
    "    return prediction[0][0]\n",
    "\n",
    "    \n",
    " # Add a title\n",
    "st.title(\"Kidney Stone Prediction App\")\n",
    "    \n",
    "# Add input fields for the features\n",
    "gravity = st.number_input(\"Enter gravity value\")\n",
    "ph = st.number_input(\"Enter pH value\")\n",
    "osmo = st.number_input(\"Enter osmo value\")\n",
    "cond = st.number_input(\"Enter cond value\")\n",
    "urea = st.number_input(\"Enter urea value\")\n",
    "calc = st.number_input(\"Enter calc value\")\n",
    "osmo_cond_ratio = st.number_input(\"Enter osmo_cond_ratio value\")\n",
    "urea_calc_diff = st.number_input(\"Enter urea_calc_diff value\")\n",
    "osmo_urea_interaction = st.number_input(\"Enter osmo_urea_interaction value\")\n",
    "gravity_bin = st.number_input(\"Enter gravity_bin value\")\n",
    "ph_bin = st.number_input(\"Enter ph_bin value\")\n",
    "osmo_bin = st.number_input(\"Enter osmo_bin value\")\n",
    "cond_bin = st.number_input(\"Enter cond_bin value\")\n",
    "urea_bin = st.number_input(\"Enter urea_bin value\")\n",
    "calc_bin = st.number_input(\"Enter calc_bin value\")\n",
    "    \n",
    "# Add a button to make the prediction\n",
    "if st.button(\"Predict\"):\n",
    "    prediction = predict_target(gravity, ph, osmo, cond, urea, calc, osmo_cond_ratio, urea_calc_diff, osmo_urea_interaction, gravity_bin, ph_bin, osmo_bin, cond_bin, urea_bin, calc_bin)\n",
    "    st.write(\"Predicted Target Value: \", prediction)\n",
    "    if prediction > 0.3:\n",
    "        st.write(\"You have kidney stone.\")\n",
    "    else:\n",
    "        st.write(\"You dont have kidney stone.\")"
   ]
  },
  {
   "cell_type": "code",
   "execution_count": null,
   "metadata": {},
   "outputs": [],
   "source": [
    "! pip install streamlit"
   ]
  },
  {
   "cell_type": "code",
   "execution_count": null,
   "metadata": {},
   "outputs": [],
   "source": []
  }
 ],
 "metadata": {
  "kernelspec": {
   "display_name": "Python 3",
   "language": "python",
   "name": "python3"
  },
  "language_info": {
   "codemirror_mode": {
    "name": "ipython",
    "version": 3
   },
   "file_extension": ".py",
   "mimetype": "text/x-python",
   "name": "python",
   "nbconvert_exporter": "python",
   "pygments_lexer": "ipython3",
   "version": "3.8.5"
  }
 },
 "nbformat": 4,
 "nbformat_minor": 5
}
